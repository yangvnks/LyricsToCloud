{
 "cells": [
  {
   "cell_type": "code",
   "execution_count": 117,
   "metadata": {},
   "outputs": [],
   "source": [
    "import pandas as pd\n",
    "import numpy as np\n",
    "import string\n",
    "from nltk.corpus import stopwords\n",
    "from collections import Counter\n",
    "from wordcloud import WordCloud\n",
    "import matplotlib.pyplot as plt"
   ]
  },
  {
   "cell_type": "code",
   "execution_count": 120,
   "metadata": {},
   "outputs": [],
   "source": [
    "def generate_world_cloud(year,show_frequency=False,display_image=False,decades=False):\n",
    "    if decades:\n",
    "        df = pd.read_csv(\"data/billboard_top_\"+str(year)+\"'s.csv\",sep='\\t')\n",
    "    else:\n",
    "        df = pd.read_csv(\"data/billboard_top_\"+str(year)+\".csv\",sep='\\t')\n",
    "        \n",
    "    #Join all lyrics into single string\n",
    "    all_lyrics =\"\"\n",
    "    for i in range(0,df.shape[0]):\n",
    "        #Replace new space and eliminate punctuation\n",
    "        all_lyrics=all_lyrics+\" \"+(df.loc[i,'Lyrics'].replace(\"\\n\",\"\"))\n",
    "        all_lyrics=all_lyrics.translate(str.maketrans(\"\", \"\", string.punctuation))\n",
    "        \n",
    "    #Filter stopwords from lyrics\n",
    "    sw=stopwords.words('english')\n",
    "    filtered_lyrics = ' '.join([word for word in all_lyrics.split() if word not in sw])\n",
    "    \n",
    "    #Print word frequency if requested\n",
    "    if show_frequency:\n",
    "        print(Counter(filtered_lyrics.split()).most_common())\n",
    "    \n",
    "    # Generate world cloud\n",
    "    wordcloud = WordCloud(height=540,\n",
    "                          width=960,\n",
    "                          background_color='white',\n",
    "                          colormap ='plasma',\n",
    "                          relative_scaling=0.9,\n",
    "                        ).generate(filtered_lyrics)\n",
    "    if decades:\n",
    "        wordcloud.to_file('results/decades/plot'+'_'+str(year)+'s.png')\n",
    "    else:\n",
    "        wordcloud.to_file('results/yearly/plot'+'_'+str(year)+'.png')\n",
    "        \n",
    "    if display_image:\n",
    "        fig=plt.figure(figsize=(8,8))\n",
    "        plt.imshow(wordcloud, interpolation=\"bilinear\")\n",
    "        plt.axis(\"off\")\n",
    "        plt.show()\n"
   ]
  },
  {
   "cell_type": "code",
   "execution_count": 121,
   "metadata": {},
   "outputs": [],
   "source": [
    "for i in range(1960,1970,10,decades=True):\n",
    "    generate_world_cloud(i)"
   ]
  },
  {
   "cell_type": "code",
   "execution_count": null,
   "metadata": {},
   "outputs": [],
   "source": []
  },
  {
   "cell_type": "code",
   "execution_count": null,
   "metadata": {},
   "outputs": [],
   "source": []
  }
 ],
 "metadata": {
  "kernelspec": {
   "display_name": "Python 3",
   "language": "python",
   "name": "python3"
  },
  "language_info": {
   "codemirror_mode": {
    "name": "ipython",
    "version": 3
   },
   "file_extension": ".py",
   "mimetype": "text/x-python",
   "name": "python",
   "nbconvert_exporter": "python",
   "pygments_lexer": "ipython3",
   "version": "3.6.2"
  }
 },
 "nbformat": 4,
 "nbformat_minor": 2
}
